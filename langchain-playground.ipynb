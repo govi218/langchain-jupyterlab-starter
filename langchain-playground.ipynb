{
 "cells": [
  {
   "cell_type": "code",
   "execution_count": 3,
   "id": "f52161f9-c3bb-4598-acd1-05e36836f86f",
   "metadata": {},
   "outputs": [
    {
     "data": {
      "text/plain": [
       "True"
      ]
     },
     "execution_count": 3,
     "metadata": {},
     "output_type": "execute_result"
    }
   ],
   "source": [
    "import os\n",
    "from dotenv import load_dotenv\n",
    "\n",
    "load_dotenv() "
   ]
  },
  {
   "cell_type": "code",
   "execution_count": 7,
   "id": "ad3057b5-66e2-4a21-a635-573586a10d3a",
   "metadata": {},
   "outputs": [],
   "source": [
    "from langchain.llms import OpenAI\n",
    "\n",
    "llm = OpenAI(openai_api_key=os.environ[\"OPENAI_API_KEY\"])"
   ]
  },
  {
   "cell_type": "code",
   "execution_count": 9,
   "id": "f2a97c2f-de20-4756-8384-84192ca6ea88",
   "metadata": {},
   "outputs": [
    {
     "data": {
      "text/plain": [
       "\"\\n\\nA bright rose in the garden of life\\nA petal of beauty a source of delight\\nIt's beauty and truth will forever shine\\nA symbol of peace and hope in our time\\n\\nA fragrant rose with its thorns of strife\\nA reminder of our struggles and strife\\nIt's beauty and grace will forever exist\\nA reminder of our never ending bliss\\n\\nA rose in the garden of life so fair\\nAn inspiration to all who care\\nIt's beauty and love will never fade\\nA symbol of hope and joy in our days\""
      ]
     },
     "execution_count": 9,
     "metadata": {},
     "output_type": "execute_result"
    }
   ],
   "source": [
    "llm.predict(\"write me a poem\")"
   ]
  }
 ],
 "metadata": {
  "kernelspec": {
   "display_name": "contend",
   "language": "python",
   "name": "contend"
  },
  "language_info": {
   "codemirror_mode": {
    "name": "ipython",
    "version": 3
   },
   "file_extension": ".py",
   "mimetype": "text/x-python",
   "name": "python",
   "nbconvert_exporter": "python",
   "pygments_lexer": "ipython3",
   "version": "3.11.5"
  }
 },
 "nbformat": 4,
 "nbformat_minor": 5
}
